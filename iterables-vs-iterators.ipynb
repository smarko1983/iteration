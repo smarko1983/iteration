{
 "cells": [
  {
   "cell_type": "markdown",
   "metadata": {},
   "source": [
    "# Iterables and Iterators: Going Loopy With Python"
   ]
  },
  {
   "cell_type": "markdown",
   "metadata": {},
   "source": [
    "__[NOTE: this code is Python 3 and will induce unexpected errors on a Python 2 interpreter]__"
   ]
  },
  {
   "cell_type": "code",
   "execution_count": null,
   "metadata": {
    "collapsed": false
   },
   "outputs": [],
   "source": [
    "def do_something_with(o):\n",
    "    print(\"---\", o, \"---\")\n",
    "\n",
    "test_list = [\"Roberta\", \"Tom\", \"Alice\"]"
   ]
  },
  {
   "cell_type": "markdown",
   "metadata": {},
   "source": [
    "## Iteration History"
   ]
  },
  {
   "cell_type": "code",
   "execution_count": null,
   "metadata": {
    "collapsed": false
   },
   "outputs": [],
   "source": [
    "_private_var = 0\n",
    "while True:\n",
    "    try:\n",
    "        i = test_list.__getitem__(_private_var)\n",
    "    except IndexError:\n",
    "        break\n",
    "    do_something_with(i)\n",
    "    _private_var += 1       "
   ]
  },
  {
   "cell_type": "markdown",
   "metadata": {},
   "source": [
    "### Writing an Old-Style Iterable"
   ]
  },
  {
   "cell_type": "code",
   "execution_count": null,
   "metadata": {
    "collapsed": false
   },
   "outputs": [],
   "source": [
    "class Stars():\n",
    "    \"Class with only __init__ and __getitem__.\"\n",
    "    def __init__(self, N):\n",
    "        self.N = N\n",
    "    def __getitem__(self, index):\n",
    "        print(\"Getting item:\", index)\n",
    "        if index > self.N:\n",
    "            raise IndexError\n",
    "        return \"*\" * index\n",
    "\n",
    "s = Stars(4)\n",
    "\n",
    "for v in s:\n",
    "    do_something_with(v)"
   ]
  },
  {
   "cell_type": "markdown",
   "metadata": {},
   "source": [
    "## Enter the Iterable"
   ]
  },
  {
   "cell_type": "code",
   "execution_count": null,
   "metadata": {
    "collapsed": false
   },
   "outputs": [],
   "source": [
    "for i in None:\n",
    "    do_something_with(i)"
   ]
  },
  {
   "cell_type": "code",
   "execution_count": null,
   "metadata": {
    "collapsed": false
   },
   "outputs": [],
   "source": [
    "oi = dir(None)\n",
    "print(\"__iter__\" in oi, \"__getitem__\" in oi)"
   ]
  },
  {
   "cell_type": "code",
   "execution_count": null,
   "metadata": {
    "collapsed": false
   },
   "outputs": [],
   "source": [
    "_ = test_list.__iter__()  # creates an iterator\n",
    "while True:\n",
    "    try:\n",
    "        i = _.__next__()  # Python 2: _.next()\n",
    "    except StopIteration: # iterator is exhausted\n",
    "        break\n",
    "    do_something_with(i)"
   ]
  },
  {
   "cell_type": "code",
   "execution_count": null,
   "metadata": {
    "collapsed": false
   },
   "outputs": [],
   "source": [
    "hasattr(test_list, \"__iter__\")"
   ]
  },
  {
   "cell_type": "code",
   "execution_count": null,
   "metadata": {
    "collapsed": false
   },
   "outputs": [],
   "source": [
    "li = test_list.__iter__()\n",
    "print(li, type(li))"
   ]
  },
  {
   "cell_type": "markdown",
   "metadata": {},
   "source": [
    "### Recognizing Iterators"
   ]
  },
  {
   "cell_type": "code",
   "execution_count": null,
   "metadata": {
    "collapsed": false
   },
   "outputs": [],
   "source": [
    "print(hasattr(li, '__iter__'), hasattr(li, '__next__'))"
   ]
  },
  {
   "cell_type": "code",
   "execution_count": null,
   "metadata": {
    "collapsed": false
   },
   "outputs": [],
   "source": [
    "print(hasattr(test_list, '__iter__'), hasattr(test_list, '__next__'))"
   ]
  },
  {
   "cell_type": "markdown",
   "metadata": {},
   "source": [
    "### Iterating over Iterators"
   ]
  },
  {
   "cell_type": "code",
   "execution_count": null,
   "metadata": {
    "collapsed": false
   },
   "outputs": [],
   "source": [
    "iterator_1 = iter(test_list) # same as test_list.__iter__()\n",
    "iterator_2 = iter(test_list)\n",
    "print(id(test_list), id(iterator_1), id(iterator_2), sep=\"\\n\")"
   ]
  },
  {
   "cell_type": "code",
   "execution_count": null,
   "metadata": {
    "collapsed": false
   },
   "outputs": [],
   "source": [
    "for i in test_list:\n",
    "    for j in test_list:\n",
    "        do_something_with(i + \":\" + j)"
   ]
  },
  {
   "cell_type": "code",
   "execution_count": null,
   "metadata": {
    "collapsed": false
   },
   "outputs": [],
   "source": [
    "iterator_1 = iter(test_list)\n",
    "iterator_2 = iter(test_list)\n",
    "for i in iterator_1:\n",
    "    print(\"outer loop\")\n",
    "    for j in iterator_2:\n",
    "        print(\"inner loop\")\n",
    "        do_something_with(i + \":\" + j)"
   ]
  },
  {
   "cell_type": "code",
   "execution_count": null,
   "metadata": {
    "collapsed": false
   },
   "outputs": [],
   "source": [
    "iterator_1 = iter(test_list)\n",
    "for i in iterator_1:\n",
    "    print(\"outer loop\")\n",
    "    for j in iterator_1:\n",
    "        print(\"inner loop\")\n",
    "        do_something_with(i + \":\" + j)"
   ]
  },
  {
   "cell_type": "code",
   "execution_count": null,
   "metadata": {
    "collapsed": false
   },
   "outputs": [],
   "source": [
    "it_3 = iter(test_list)\n",
    "print(id(test_list),\n",
    "      id(it_3),\n",
    "      id(iter(it_3)),\n",
    "      id(it_3) is id(iter(it_3)), sep=\"\\n\")"
   ]
  },
  {
   "cell_type": "markdown",
   "metadata": {},
   "source": [
    "### Iterators Aren't a Silver Bullet"
   ]
  },
  {
   "cell_type": "code",
   "execution_count": null,
   "metadata": {
    "collapsed": false
   },
   "outputs": [],
   "source": [
    "it_4 = iter([\"one\", \"two\", \"three\", \"four\"])\n",
    "it_5 = iter([\"one\", \"two\", \"three\", \"four\", \"five\"])\n",
    "for iterator in it_4, it_5:\n",
    "    print(\"++ New iterator ++\")\n",
    "    for item_1 in iterator:\n",
    "        item_2 = next(iterator)\n",
    "        do_something_with(item_1+\":\"+item_2)"
   ]
  },
  {
   "cell_type": "markdown",
   "metadata": {},
   "source": [
    "## Writing Your Own Iterators and Iterables"
   ]
  },
  {
   "cell_type": "code",
   "execution_count": null,
   "metadata": {
    "collapsed": false
   },
   "outputs": [],
   "source": [
    "def is_iterable(o):\n",
    "    \"Return True if o is an iterable.\"\n",
    "    return hasattr(o, \"__iter__\") and not hasattr(o, \"__next__\")\n",
    "\n",
    "def is_iterator(o):\n",
    "    \"Return True if o is an iterator.\"\n",
    "    return hasattr(o, \"__iter__\") and hasattr(o, \"__next__\")"
   ]
  },
  {
   "cell_type": "code",
   "execution_count": null,
   "metadata": {
    "collapsed": false
   },
   "outputs": [],
   "source": [
    "test_it = iter(test_list)\n",
    "is_iterable(test_list), is_iterator(test_list), is_iterable(test_it), is_iterator(test_it)"
   ]
  },
  {
   "cell_type": "markdown",
   "metadata": {},
   "source": [
    "### The Basic Iterator Pattern"
   ]
  },
  {
   "cell_type": "code",
   "execution_count": null,
   "metadata": {
    "collapsed": false
   },
   "outputs": [],
   "source": [
    "class MyIterator:\n",
    "    \"An iterator to produce each character of a string N times.\"\n",
    "    def __init__(self, s, N):\n",
    "        self.s = s\n",
    "        self.N =  N\n",
    "        self.pos = self.count = 0\n",
    "    def __iter__(self):\n",
    "        return self\n",
    "    def __next__(self):\n",
    "        if self.pos == len(self.s):\n",
    "            raise StopIteration\n",
    "        result = self.s[self.pos]\n",
    "        self.count += 1\n",
    "        if self.count == self.N:\n",
    "            self.pos += 1\n",
    "            self.count = 0\n",
    "        return result"
   ]
  },
  {
   "cell_type": "code",
   "execution_count": null,
   "metadata": {
    "collapsed": false,
    "scrolled": true
   },
   "outputs": [],
   "source": [
    "for s in MyIterator(\"abc\", 2):\n",
    "    do_something_with(s)"
   ]
  },
  {
   "cell_type": "code",
   "execution_count": null,
   "metadata": {
    "collapsed": false
   },
   "outputs": [],
   "source": [
    "it_6 = MyIterator(\"*+\", 3)\n",
    "it_7 = MyIterator(\"=-\", 3)\n",
    "for c1 in it_6:\n",
    "    print(\"iterating over c1:\", c1)\n",
    "    for c2 in it_7:\n",
    "        do_something_with(c1+\":\"+c2)"
   ]
  },
  {
   "cell_type": "markdown",
   "metadata": {},
   "source": [
    "### The Advantages of Generators"
   ]
  },
  {
   "cell_type": "code",
   "execution_count": null,
   "metadata": {
    "collapsed": false
   },
   "outputs": [],
   "source": [
    "def rangedown(n):\n",
    "    for i in reversed(range(n)):\n",
    "        yield i"
   ]
  },
  {
   "cell_type": "code",
   "execution_count": null,
   "metadata": {
    "collapsed": false
   },
   "outputs": [],
   "source": [
    "generator = rangedown(5)\n",
    "\n",
    "type(generator), is_iterable(generator), is_iterator(generator)"
   ]
  },
  {
   "cell_type": "code",
   "execution_count": null,
   "metadata": {
    "collapsed": false
   },
   "outputs": [],
   "source": [
    "for x in generator:\n",
    "    print(x)"
   ]
  },
  {
   "cell_type": "code",
   "execution_count": null,
   "metadata": {
    "collapsed": false
   },
   "outputs": [],
   "source": [
    "genexp = (i*2 for i in range(5))\n",
    "type(rangedown), type(generator), type(genexp)"
   ]
  },
  {
   "cell_type": "code",
   "execution_count": null,
   "metadata": {
    "collapsed": false
   },
   "outputs": [],
   "source": [
    "for o in genexp:\n",
    "    print(o)"
   ]
  },
  {
   "cell_type": "markdown",
   "metadata": {},
   "source": [
    "### The Basic Iterable Pattern"
   ]
  },
  {
   "cell_type": "code",
   "execution_count": null,
   "metadata": {
    "collapsed": true
   },
   "outputs": [],
   "source": [
    "class MIString(str):\n",
    "    def __new__(cls, value, N):\n",
    "        return str.__new__(cls, value)\n",
    "    def __init__(self, value, N):\n",
    "        self.N = N\n",
    "    def __iter__(self):\n",
    "        return MyIterator(self, self.N)"
   ]
  },
  {
   "cell_type": "code",
   "execution_count": null,
   "metadata": {
    "collapsed": false
   },
   "outputs": [],
   "source": [
    "[s for s in MIString(\"xyz\", 3)]"
   ]
  },
  {
   "cell_type": "code",
   "execution_count": null,
   "metadata": {
    "collapsed": false
   },
   "outputs": [],
   "source": [
    "x = MIString(\"01\", 2)\n",
    "for c1 in x:\n",
    "    for c2 in x:\n",
    "        print(c1, c2)"
   ]
  },
  {
   "cell_type": "code",
   "execution_count": null,
   "metadata": {
    "collapsed": false
   },
   "outputs": [],
   "source": [
    "print(x, x+x, 3*x)"
   ]
  },
  {
   "cell_type": "code",
   "execution_count": null,
   "metadata": {
    "collapsed": false
   },
   "outputs": [],
   "source": [
    "is_iterable(x), is_iterator(x), is_iterable(iter(x)), is_iterator(iter(x))"
   ]
  },
  {
   "cell_type": "code",
   "execution_count": null,
   "metadata": {
    "collapsed": true
   },
   "outputs": [],
   "source": [
    "class MIString2(str):\n",
    "    def __new__(cls,value, N):\n",
    "        return str.__new__(cls, value)\n",
    "    def __init__(self, value, N):\n",
    "        self.N = N\n",
    "    def __iter__(self):\n",
    "        for c in str(self):\n",
    "            for i in range(self.N):\n",
    "                yield c"
   ]
  },
  {
   "cell_type": "code",
   "execution_count": null,
   "metadata": {
    "collapsed": false
   },
   "outputs": [],
   "source": [
    "[c for c in MIString2(\"abcde\", 3)]"
   ]
  },
  {
   "cell_type": "markdown",
   "metadata": {},
   "source": [
    "### Python Iterables"
   ]
  },
  {
   "cell_type": "code",
   "execution_count": null,
   "metadata": {
    "collapsed": false
   },
   "outputs": [],
   "source": [
    "for function in is_iterable, is_iterator:\n",
    "    for value in rangedown, generator, genexp:\n",
    "        print(function.__name__, value, \":\", function(value))"
   ]
  },
  {
   "cell_type": "code",
   "execution_count": null,
   "metadata": {
    "collapsed": false
   },
   "outputs": [],
   "source": [
    "is_iterable({}), is_iterable(()), is_iterable(set()), is_iterable(\"\")"
   ]
  },
  {
   "cell_type": "code",
   "execution_count": null,
   "metadata": {
    "collapsed": false
   },
   "outputs": [],
   "source": [
    "[i for i in range(10)], [(i for i in range(10))]"
   ]
  },
  {
   "cell_type": "code",
   "execution_count": null,
   "metadata": {
    "collapsed": false
   },
   "outputs": [],
   "source": [
    "genexp = (i*2 for i in range(5))\n",
    "print(i for i in range(5))\n",
    "print((i for i in range(5)))\n",
    "print([genexp])\n",
    "print([(i for i in range(5))])\n",
    "print([i for i in range(5)])\n",
    "print(list(i for i in range(5)))\n",
    "print(list(genexp))\n",
    "print(list(genexp))"
   ]
  }
 ],
 "metadata": {
  "kernelspec": {
   "display_name": "Python 3",
   "language": "python",
   "name": "python3"
  },
  "language_info": {
   "codemirror_mode": {
    "name": "ipython",
    "version": 3
   },
   "file_extension": ".py",
   "mimetype": "text/x-python",
   "name": "python",
   "nbconvert_exporter": "python",
   "pygments_lexer": "ipython3",
   "version": "3.4.3"
  }
 },
 "nbformat": 4,
 "nbformat_minor": 0
}
